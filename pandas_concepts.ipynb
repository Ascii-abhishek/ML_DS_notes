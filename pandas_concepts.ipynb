{
 "cells": [
  {
   "cell_type": "code",
   "execution_count": 1,
   "metadata": {},
   "outputs": [],
   "source": [
    "import numpy as np\n",
    "import pandas as pd"
   ]
  },
  {
   "cell_type": "code",
   "execution_count": 21,
   "metadata": {},
   "outputs": [],
   "source": [
    "# Any of the following can be converted to series\n",
    "\n",
    "my_list = ['a','bar',20, 10, sum, len]\n",
    "my_arr = np.array([10,20,30])\n",
    "my_dict = {'a':10,'b':20,'c':30}"
   ]
  },
  {
   "cell_type": "code",
   "execution_count": 22,
   "metadata": {},
   "outputs": [],
   "source": [
    "my_series = pd.Series(data = my_list, index = range(6))"
   ]
  },
  {
   "cell_type": "code",
   "execution_count": 56,
   "metadata": {},
   "outputs": [
    {
     "data": {
      "text/plain": [
       "0            aba\n",
       "1      bar_hello\n",
       "2             21\n",
       "3            NaN\n",
       "4            NaN\n",
       "5            NaN\n",
       "ind          NaN\n",
       "dtype: object"
      ]
     },
     "execution_count": 56,
     "metadata": {},
     "output_type": "execute_result"
    }
   ],
   "source": [
    "# Accessing data: my_series[2] OR my_series['index_key']\n",
    "\n",
    "series1 = pd.Series(my_list)\n",
    "series2 = pd.Series(['ba', '_hello', 1.0, 20], index = [0, 1, 2, 'ind'])\n",
    "\n",
    "series1 + series2 # common index items adds up, rest present with NaN value"
   ]
  },
  {
   "cell_type": "code",
   "execution_count": 57,
   "metadata": {},
   "outputs": [],
   "source": [
    "dates_series = pd.date_range('20191215', periods=6)\n",
    "dates_obj = pd.Timestamp('20130102002025')\n",
    "categorical_series = pd.Categorical([\"test\", \"train\", \"test\", \"train\", \"test\", \"test\"])\n",
    "df1 = pd.DataFrame(np.random.randn(6, 4), index=dates, columns=list('ABCD'))"
   ]
  },
  {
   "cell_type": "code",
   "execution_count": 58,
   "metadata": {},
   "outputs": [
    {
     "data": {
      "text/html": [
       "<div>\n",
       "<style scoped>\n",
       "    .dataframe tbody tr th:only-of-type {\n",
       "        vertical-align: middle;\n",
       "    }\n",
       "\n",
       "    .dataframe tbody tr th {\n",
       "        vertical-align: top;\n",
       "    }\n",
       "\n",
       "    .dataframe thead th {\n",
       "        text-align: right;\n",
       "    }\n",
       "</style>\n",
       "<table border=\"1\" class=\"dataframe\">\n",
       "  <thead>\n",
       "    <tr style=\"text-align: right;\">\n",
       "      <th></th>\n",
       "      <th>A</th>\n",
       "      <th>B</th>\n",
       "      <th>C</th>\n",
       "      <th>D</th>\n",
       "      <th>E</th>\n",
       "      <th>F</th>\n",
       "    </tr>\n",
       "  </thead>\n",
       "  <tbody>\n",
       "    <tr>\n",
       "      <th>0</th>\n",
       "      <td>1</td>\n",
       "      <td>2019-12-15</td>\n",
       "      <td>a</td>\n",
       "      <td>Foo</td>\n",
       "      <td>2013-01-02 00:20:25</td>\n",
       "      <td>test</td>\n",
       "    </tr>\n",
       "    <tr>\n",
       "      <th>1</th>\n",
       "      <td>1</td>\n",
       "      <td>2019-12-16</td>\n",
       "      <td>bar</td>\n",
       "      <td>Foo</td>\n",
       "      <td>2013-01-02 00:20:25</td>\n",
       "      <td>train</td>\n",
       "    </tr>\n",
       "    <tr>\n",
       "      <th>2</th>\n",
       "      <td>1</td>\n",
       "      <td>2019-12-17</td>\n",
       "      <td>20</td>\n",
       "      <td>Foo</td>\n",
       "      <td>2013-01-02 00:20:25</td>\n",
       "      <td>test</td>\n",
       "    </tr>\n",
       "    <tr>\n",
       "      <th>3</th>\n",
       "      <td>1</td>\n",
       "      <td>2019-12-18</td>\n",
       "      <td>10</td>\n",
       "      <td>Foo</td>\n",
       "      <td>2013-01-02 00:20:25</td>\n",
       "      <td>train</td>\n",
       "    </tr>\n",
       "    <tr>\n",
       "      <th>4</th>\n",
       "      <td>1</td>\n",
       "      <td>2019-12-19</td>\n",
       "      <td>&lt;built-in function sum&gt;</td>\n",
       "      <td>Foo</td>\n",
       "      <td>2013-01-02 00:20:25</td>\n",
       "      <td>test</td>\n",
       "    </tr>\n",
       "    <tr>\n",
       "      <th>5</th>\n",
       "      <td>1</td>\n",
       "      <td>2019-12-20</td>\n",
       "      <td>&lt;built-in function len&gt;</td>\n",
       "      <td>Foo</td>\n",
       "      <td>2013-01-02 00:20:25</td>\n",
       "      <td>test</td>\n",
       "    </tr>\n",
       "  </tbody>\n",
       "</table>\n",
       "</div>"
      ],
      "text/plain": [
       "   A          B                        C    D                   E      F\n",
       "0  1 2019-12-15                        a  Foo 2013-01-02 00:20:25   test\n",
       "1  1 2019-12-16                      bar  Foo 2013-01-02 00:20:25  train\n",
       "2  1 2019-12-17                       20  Foo 2013-01-02 00:20:25   test\n",
       "3  1 2019-12-18                       10  Foo 2013-01-02 00:20:25  train\n",
       "4  1 2019-12-19  <built-in function sum>  Foo 2013-01-02 00:20:25   test\n",
       "5  1 2019-12-20  <built-in function len>  Foo 2013-01-02 00:20:25   test"
      ]
     },
     "execution_count": 58,
     "metadata": {},
     "output_type": "execute_result"
    }
   ],
   "source": [
    "df2 = pd.DataFrame({'A': 1, 'B': dates_series, 'C': my_list, 'D': 'Foo', 'E': dates_obj, 'F': categorical_series})\n",
    "\n",
    "df2"
   ]
  },
  {
   "cell_type": "code",
   "execution_count": 61,
   "metadata": {},
   "outputs": [],
   "source": [
    "# All available attributes of dataframe"
   ]
  },
  {
   "cell_type": "code",
   "execution_count": null,
   "metadata": {},
   "outputs": [],
   "source": [
    "# NumPy arrays have one dtype for the entire array, while pandas DataFrames have one dtype per column, if you convert df2\n",
    "# to numpy array, it will be array of object datatypes\n",
    "df.to_numpy()"
   ]
  },
  {
   "cell_type": "code",
   "execution_count": null,
   "metadata": {},
   "outputs": [],
   "source": [
    "df.index\n",
    "df.columns\n",
    "df.dtypes\n",
    "df.T # transpose\n",
    "df.head()\n",
    "df.tail(3)\n",
    "df.describe()\n",
    "df.sort_index(axis=1, ascending=False) # sorting by columns\n",
    "df.sort_values(by='B') # sort according to Column B"
   ]
  },
  {
   "cell_type": "code",
   "execution_count": 73,
   "metadata": {},
   "outputs": [
    {
     "data": {
      "text/html": [
       "<div>\n",
       "<style scoped>\n",
       "    .dataframe tbody tr th:only-of-type {\n",
       "        vertical-align: middle;\n",
       "    }\n",
       "\n",
       "    .dataframe tbody tr th {\n",
       "        vertical-align: top;\n",
       "    }\n",
       "\n",
       "    .dataframe thead th {\n",
       "        text-align: right;\n",
       "    }\n",
       "</style>\n",
       "<table border=\"1\" class=\"dataframe\">\n",
       "  <thead>\n",
       "    <tr style=\"text-align: right;\">\n",
       "      <th></th>\n",
       "      <th>A</th>\n",
       "      <th>B</th>\n",
       "      <th>C</th>\n",
       "      <th>D</th>\n",
       "      <th>E</th>\n",
       "    </tr>\n",
       "  </thead>\n",
       "  <tbody>\n",
       "    <tr>\n",
       "      <th>2019-12-17</th>\n",
       "      <td>-0.272899</td>\n",
       "      <td>0.354472</td>\n",
       "      <td>1.525303</td>\n",
       "      <td>1.442412</td>\n",
       "      <td>two</td>\n",
       "    </tr>\n",
       "    <tr>\n",
       "      <th>2019-12-19</th>\n",
       "      <td>-1.329955</td>\n",
       "      <td>0.898790</td>\n",
       "      <td>0.017607</td>\n",
       "      <td>-0.661852</td>\n",
       "      <td>four</td>\n",
       "    </tr>\n",
       "  </tbody>\n",
       "</table>\n",
       "</div>"
      ],
      "text/plain": [
       "                   A         B         C         D     E\n",
       "2019-12-17 -0.272899  0.354472  1.525303  1.442412   two\n",
       "2019-12-19 -1.329955  0.898790  0.017607 -0.661852  four"
      ]
     },
     "execution_count": 73,
     "metadata": {},
     "output_type": "execute_result"
    }
   ],
   "source": [
    "df3 = df.copy()\n",
    "df3['E'] = ['one', 'one', 'two', 'three', 'four', 'three']\n",
    "\n",
    "df3[df3['E'].isin(['two', 'four'])] "
   ]
  },
  {
   "cell_type": "code",
   "execution_count": null,
   "metadata": {},
   "outputs": [],
   "source": [
    "df['A']\n",
    "df[['A', 'C']]\n",
    "df['20191216': '20191219'] # return split by rows and then columns\n",
    "df.loc['20191216': '20191219', ['A', 'B']] # dataframe.loc[row(s), [col1, col2, ....]]\n",
    "df.iloc[row1:row2, col1:col2]\n",
    "df.iloc[[1, 2, 4], [0, 3]]"
   ]
  },
  {
   "cell_type": "code",
   "execution_count": null,
   "metadata": {},
   "outputs": [],
   "source": [
    "df[df > 0]\n",
    "df[df.B <= 0]\n",
    "df[df > 0] = -df # converting all positive values of df to negative values"
   ]
  },
  {
   "cell_type": "code",
   "execution_count": null,
   "metadata": {},
   "outputs": [],
   "source": []
  }
 ],
 "metadata": {
  "kernelspec": {
   "display_name": "Python 3",
   "language": "python",
   "name": "python3"
  },
  "language_info": {
   "codemirror_mode": {
    "name": "ipython",
    "version": 3
   },
   "file_extension": ".py",
   "mimetype": "text/x-python",
   "name": "python",
   "nbconvert_exporter": "python",
   "pygments_lexer": "ipython3",
   "version": "3.8.0"
  }
 },
 "nbformat": 4,
 "nbformat_minor": 2
}
